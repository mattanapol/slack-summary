{
 "cells": [
  {
   "cell_type": "code",
   "execution_count": null,
   "metadata": {},
   "outputs": [],
   "source": [
    "from config import load_conf\n",
    "\n",
    "config = load_conf(\"./config.yaml\")"
   ]
  },
  {
   "cell_type": "code",
   "execution_count": null,
   "metadata": {},
   "outputs": [],
   "source": [
    "from slack_util import SlackUtil\n",
    "\n",
    "slack = SlackUtil(token=config.slack.token)\n",
    "channel_to_summary = config.slack.channels[\"any-channel\"]\n",
    "\n",
    "conversation_history = slack.client.conversations_history(\n",
    "    channel=channel_to_summary,\n",
    "    limit=20\n",
    ")\n",
    "chat_history = []\n",
    "for message in reversed(conversation_history[\"messages\"]):\n",
    "    chat = slack.to_chat_entry(message)\n",
    "    print(chat)\n",
    "    chat_history.append(chat)\n",
    "\n"
   ]
  },
  {
   "cell_type": "code",
   "execution_count": null,
   "metadata": {},
   "outputs": [],
   "source": [
    "# This is for ollama\n",
    "# from langchain_community.llms import Ollama\n",
    "# llm = Ollama(model=\"llama3\")\n",
    "# llm = Ollama(model=\"phi3\")\n",
    "# llm = Ollama(model=\"wizardlm2\")"
   ]
  },
  {
   "cell_type": "code",
   "execution_count": null,
   "metadata": {},
   "outputs": [],
   "source": [
    "from langchain_openai import ChatOpenAI\n",
    "\n",
    "llm = ChatOpenAI(api_key=config.open_ai.api_key,\n",
    "                 model=\"gpt-3.5-turbo\")\n",
    "                #  model=\"gpt-4o\")"
   ]
  },
  {
   "cell_type": "code",
   "execution_count": null,
   "metadata": {},
   "outputs": [],
   "source": [
    "from langchain_core.prompts import ChatPromptTemplate\n",
    "prompt = ChatPromptTemplate.from_messages([\n",
    "    (\"system\",\n",
    "     \"\"\"\n",
    "     I'd like you to analyze the following conversation and identify all my pending action items that not resolved and still require my attention.\n",
    "     Please format these action items as a bulleted list with clear and concise descriptions of what needs to be done.\n",
    "     \"\"\"),\n",
    "    (\"user\",\n",
    "     \"\"\"\n",
    "     {conversation}\n",
    "     \"\"\"),\n",
    "])"
   ]
  },
  {
   "cell_type": "code",
   "execution_count": null,
   "metadata": {},
   "outputs": [],
   "source": [
    "from langchain_core.output_parsers import StrOutputParser\n",
    "output_parser = StrOutputParser()\n",
    "\n",
    "chain = prompt | llm | output_parser\n",
    "output = chain.invoke({\"conversation\": chat_history})\n",
    "print(output)"
   ]
  }
 ],
 "metadata": {
  "kernelspec": {
   "display_name": "slack-ai-summary",
   "language": "python",
   "name": "python3"
  },
  "language_info": {
   "codemirror_mode": {
    "name": "ipython",
    "version": 3
   },
   "file_extension": ".py",
   "mimetype": "text/x-python",
   "name": "python",
   "nbconvert_exporter": "python",
   "pygments_lexer": "ipython3",
   "version": "3.12.3"
  }
 },
 "nbformat": 4,
 "nbformat_minor": 2
}
