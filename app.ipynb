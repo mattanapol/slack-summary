{
 "cells": [
  {
   "cell_type": "code",
   "execution_count": null,
   "metadata": {},
   "outputs": [],
   "source": [
    "from config import load_conf\n",
    "\n",
    "config = load_conf(\"./config.yaml\")\n",
    "nicknames = ' or '.join(config.my.names)\n",
    "print(nicknames)"
   ]
  },
  {
   "cell_type": "code",
   "execution_count": null,
   "metadata": {},
   "outputs": [],
   "source": [
    "from slack_util import SlackUtil\n",
    "\n",
    "slack = SlackUtil(token=config.slack.token)\n",
    "chat_history = []\n",
    "channel_to_summary = config.slack.channels[\"your-channel\"]\n",
    "\n",
    "conversation_history = slack.client.conversations_history(\n",
    "    channel=channel_to_summary,\n",
    "    limit=20\n",
    ")\n",
    "for message in reversed(conversation_history[\"messages\"]):\n",
    "    chat = slack.to_chat_entry(message)\n",
    "    print(chat)\n",
    "    chat_history.append(chat)\n",
    "# chat_history = slack.get_mock_chat_history()\n",
    "# for chat in chat_history:\n",
    "#     print(chat)\n"
   ]
  },
  {
   "cell_type": "code",
   "execution_count": null,
   "metadata": {},
   "outputs": [],
   "source": [
    "# This is for ollama\n",
    "# from langchain_community.llms import Ollama\n",
    "# llm = Ollama(model=\"llama3\")\n",
    "# llm = Ollama(model=\"phi3\")\n",
    "# llm = Ollama(model=\"wizardlm2\")"
   ]
  },
  {
   "cell_type": "code",
   "execution_count": null,
   "metadata": {},
   "outputs": [],
   "source": [
    "from langchain_openai import ChatOpenAI\n",
    "\n",
    "llm = ChatOpenAI(api_key=config.open_ai.api_key,\n",
    "                 model=\"gpt-3.5-turbo\")\n",
    "\n",
    "# llm = ChatOpenAI(api_key=config.open_ai.api_key,\n",
    "#                  model=\"gpt-4o\")"
   ]
  },
  {
   "cell_type": "code",
   "execution_count": null,
   "metadata": {},
   "outputs": [],
   "source": [
    "from langchain_core.prompts import ChatPromptTemplate\n",
    "prompt = ChatPromptTemplate.from_messages([\n",
    "    (\"system\",\n",
    "     \"\"\"\n",
    "     I'd like you to analyze the following conversation and identify all my pending action items \n",
    "     that someone specifically asked me to do and I'm not resolved or fulfilled and still require my attention.\n",
    "     Others may address me by {nicknames} or <Me> in the conversation.\n",
    "     Please format these action items as a bulleted list with clear and concise descriptions of what needs to be done.\n",
    "     \"\"\"),\n",
    "    (\"user\",\n",
    "     \"\"\"\n",
    "     {conversation}\n",
    "     \"\"\"),\n",
    "])"
   ]
  },
  {
   "cell_type": "code",
   "execution_count": null,
   "metadata": {},
   "outputs": [],
   "source": [
    "from langchain_core.output_parsers import StrOutputParser\n",
    "output_parser = StrOutputParser()\n",
    "\n",
    "chain = prompt | llm | output_parser\n",
    "output = chain.invoke({\"conversation\": chat_history, \"nicknames\": nicknames})\n",
    "print(output)"
   ]
  },
  {
   "cell_type": "code",
   "execution_count": null,
   "metadata": {},
   "outputs": [],
   "source": [
    "from typing_extensions import TypedDict\n",
    "\n",
    "class State(TypedDict):\n",
    "    conversation: list[str]\n",
    "    action_items: str\n",
    "    pending_items: str"
   ]
  },
  {
   "cell_type": "code",
   "execution_count": null,
   "metadata": {},
   "outputs": [],
   "source": [
    "def get_conversation(state: State):\n",
    "    state = {**state, \"conversation\": chat_history}\n",
    "    return state"
   ]
  },
  {
   "cell_type": "code",
   "execution_count": null,
   "metadata": {},
   "outputs": [],
   "source": [
    "from langchain_core.prompts import ChatPromptTemplate\n",
    "\n",
    "def get_action_runnable(state: State):\n",
    "    get_action_prompt = ChatPromptTemplate.from_messages(\n",
    "        [\n",
    "            (\n",
    "                \"system\",\n",
    "                \"\"\"\n",
    "                I need you to analyze a conversation to extract action items that speaker specifically want me to take action.\n",
    "                List them in this format: <Who> want me to <do something>.\n",
    "                Others may address me by {nicknames} or <Me> in the conversation.\n",
    "                Output the extracted action items and no preamble or explanation.\n",
    "                \"\"\",\n",
    "            ),\n",
    "            (\"user\", \"The conversations for analysis:\\n{conversation}\"),\n",
    "        ]\n",
    "    )\n",
    "    output_parser = StrOutputParser()\n",
    "\n",
    "    chain = get_action_prompt | llm | output_parser\n",
    "    output = chain.invoke({\"conversation\": state[\"conversation\"],\n",
    "                           \"nicknames\": nicknames})\n",
    "    state = {**state, \"action_items\": output}\n",
    "    return state\n",
    "\n",
    "def get_pending_action_runnable(state: State):\n",
    "    get_pending_account_prompt = ChatPromptTemplate.from_messages(\n",
    "        [\n",
    "            (\n",
    "                \"system\",\n",
    "                \"\"\"\n",
    "                I have conversation and a list of action items that someone want me to do something.\n",
    "                I need you to analyze the conversation and the identified action items \n",
    "                to find out which action items are still pending, not fulfill and require my attention.\n",
    "                Others may address me by {nicknames} or <Me> in the conversation.\n",
    "                No preamble or explanation\"\"\",\n",
    "            ),\n",
    "            (\n",
    "                \"user\", \n",
    "                \"Conversation: {conversation}\\n\"\n",
    "                \"Action Items: {action_items}\\n\"\n",
    "             ),\n",
    "        ]\n",
    "    )\n",
    "    output_parser = StrOutputParser()\n",
    "\n",
    "    chain = get_pending_account_prompt | llm | output_parser\n",
    "    output = chain.invoke({\n",
    "        \"conversation\": state[\"conversation\"],\n",
    "        \"action_items\": state[\"action_items\"],\n",
    "        \"nicknames\": nicknames\n",
    "        })\n",
    "    state = {**state, \"pending_items\": output}\n",
    "    return state"
   ]
  },
  {
   "cell_type": "code",
   "execution_count": null,
   "metadata": {},
   "outputs": [],
   "source": [
    "from langgraph.graph import END, StateGraph\n",
    "\n",
    "builder = StateGraph(State)\n",
    "\n",
    "builder.add_node(\"get_chat_history\", get_conversation)\n",
    "builder.set_entry_point(\"get_chat_history\")\n",
    "\n",
    "builder.add_node(\"get_action\", get_action_runnable)\n",
    "builder.add_edge(\"get_chat_history\", \"get_action\")\n",
    "\n",
    "builder.add_node(\"get_pending_action\", get_pending_action_runnable)\n",
    "builder.add_edge(\"get_action\", \"get_pending_action\")\n",
    "\n",
    "builder.add_edge(\"get_pending_action\", END)\n",
    "\n",
    "graph = builder.compile()\n"
   ]
  },
  {
   "cell_type": "code",
   "execution_count": null,
   "metadata": {},
   "outputs": [],
   "source": [
    "from IPython.display import Image, display\n",
    "\n",
    "try:\n",
    "    display(Image(graph.get_graph(xray=True).draw_mermaid_png()))\n",
    "except Exception as e:\n",
    "    # This requires some extra dependencies and is optional\n",
    "    print(e)\n",
    "    pass"
   ]
  },
  {
   "cell_type": "code",
   "execution_count": null,
   "metadata": {},
   "outputs": [],
   "source": [
    "import uuid\n",
    "from langchain_core.runnables import RunnableConfig\n",
    "thread_id = str(uuid.uuid4())\n",
    "\n",
    "config = RunnableConfig(\n",
    "    configurable={\n",
    "        \"thread_id\": thread_id})\n",
    "\n",
    "event = graph.invoke({})\n",
    "if event[\"action_items\"] != None:\n",
    "    print(\"------Action Items------\")\n",
    "    print(event[\"action_items\"])\n",
    "if event[\"pending_items\"] != None:\n",
    "    print(\"------Pending Items------\")\n",
    "    print(event[\"pending_items\"])\n"
   ]
  }
 ],
 "metadata": {
  "kernelspec": {
   "display_name": "slack-ai-summary",
   "language": "python",
   "name": "python3"
  },
  "language_info": {
   "codemirror_mode": {
    "name": "ipython",
    "version": 3
   },
   "file_extension": ".py",
   "mimetype": "text/x-python",
   "name": "python",
   "nbconvert_exporter": "python",
   "pygments_lexer": "ipython3",
   "version": "3.12.3"
  }
 },
 "nbformat": 4,
 "nbformat_minor": 2
}
